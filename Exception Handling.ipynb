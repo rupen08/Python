{
 "cells": [
  {
   "cell_type": "markdown",
   "metadata": {},
   "source": [
    "#### This file shows how to handle Exceptions using:\n",
    "    1. try and except block\n",
    "    2. try and except and else\n",
    "    3. try and except and else with finally\n",
    "    4. Custome Exception\n",
    "    "
   ]
  },
  {
   "cell_type": "markdown",
   "metadata": {},
   "source": [
    "#### try and except"
   ]
  },
  {
   "cell_type": "code",
   "execution_count": 8,
   "metadata": {},
   "outputs": [
    {
     "name": "stdout",
     "output_type": "stream",
     "text": [
      "Something went wrong!!\n"
     ]
    }
   ],
   "source": [
    "try:\n",
    "    a=12\n",
    "    b=0\n",
    "    a/b\n",
    "except NameError: ## If variable is not defined then it will print following message\n",
    "    print(\"You have to define variables first!!\")\n",
    "except TypeError: ## If variablea are not same then it will print following message\n",
    "    print (\"Check the datatype of variables!!\")\n",
    "except: ## anything else will print this message\n",
    "    print(\"Something went wrong!!\")"
   ]
  },
  {
   "cell_type": "markdown",
   "metadata": {},
   "source": [
    "#### try and except and else"
   ]
  },
  {
   "cell_type": "code",
   "execution_count": 9,
   "metadata": {},
   "outputs": [
    {
     "name": "stdout",
     "output_type": "stream",
     "text": [
      "This is summation operation\n",
      "Enter anything: 12\n",
      "Enter anything: 12\n",
      "24\n"
     ]
    }
   ],
   "source": [
    "print(\"This is summation operation\")\n",
    "try:\n",
    "    a = int(input(\"Enter anything: \"))\n",
    "    b = int(input(\"Enter anything: \"))\n",
    "except NameError: ## If variable is not defined then it will print following message\n",
    "    print(\"You have to define variables first!!\")\n",
    "except TypeError: ## If variablea are not same then it will print following message\n",
    "    print (\"Check the datatype of variables!!\")\n",
    "except: ## anything else will print this message\n",
    "    print(\"Something went wrong!!\")\n",
    "else:\n",
    "    c=a+b\n",
    "    print(c)\n",
    "    \n",
    "    \n",
    "## if there is no error in try block, all except block will pass and else result will be printed!!\n",
    "## if error exists in try block, it will go to except block never printing else block at all!!\n",
    "\n",
    "## so, else will be only excecuted when there is no error."
   ]
  },
  {
   "cell_type": "markdown",
   "metadata": {},
   "source": [
    "#### try and except and else with finally"
   ]
  },
  {
   "cell_type": "code",
   "execution_count": 10,
   "metadata": {},
   "outputs": [
    {
     "name": "stdout",
     "output_type": "stream",
     "text": [
      "This is summation operation\n",
      "Enter anything: 12\n",
      "Enter anything: 12\n",
      "24\n",
      "This will execute no matter what!!\n"
     ]
    }
   ],
   "source": [
    "print(\"This is summation operation\")\n",
    "try:\n",
    "    a = int(input(\"Enter anything: \"))\n",
    "    b = int(input(\"Enter anything: \"))\n",
    "except NameError: ## If variable is not defined then it will print following message\n",
    "    print(\"You have to define variables first!!\")\n",
    "except TypeError: ## If variablea are not same then it will print following message\n",
    "    print (\"Check the datatype of variables!!\")\n",
    "except: ## anything else will print this message\n",
    "    print(\"Something went wrong!!\")\n",
    "else:\n",
    "    c=a+b\n",
    "    print(c)\n",
    "finally:\n",
    "    print(\"This will execute no matter what!!\")\n",
    "    \n",
    "\n",
    "## if there is no error in try block, all except block will pass and else result will be printed!!\n",
    "## if error exists in try block, it will go to except block never printing else block at all!!\n",
    "## Unlike else block, finally block will always be executed!!\n"
   ]
  },
  {
   "cell_type": "markdown",
   "metadata": {},
   "source": [
    "#### Custome Exception"
   ]
  },
  {
   "cell_type": "code",
   "execution_count": 11,
   "metadata": {},
   "outputs": [],
   "source": [
    "class Error(Exception):\n",
    "    pass\n",
    "\n",
    "class dobException(Error):\n",
    "    pass\n",
    "\n",
    "class customgeneric(Error):\n",
    "    pass"
   ]
  },
  {
   "cell_type": "code",
   "execution_count": 12,
   "metadata": {},
   "outputs": [
    {
     "name": "stdout",
     "output_type": "stream",
     "text": [
      "Enter the Year of Birth: 1970\n",
      "You're 51 which is invalid age, you cannot apply for the exams!!\n"
     ]
    }
   ],
   "source": [
    "year = int(input(\"Enter the Year of Birth: \"))\n",
    "age = 2021-year\n",
    "\n",
    "try:\n",
    "    if age<=30 & age>20:\n",
    "        print(\"Valid Age!\")\n",
    "    else:\n",
    "        raise dobException\n",
    "except dobException:\n",
    "    print(f\"You're {age} which is invalid age, you cannot apply for the exams!!\")"
   ]
  }
 ],
 "metadata": {
  "kernelspec": {
   "display_name": "Python 3",
   "language": "python",
   "name": "python3"
  },
  "language_info": {
   "codemirror_mode": {
    "name": "ipython",
    "version": 3
   },
   "file_extension": ".py",
   "mimetype": "text/x-python",
   "name": "python",
   "nbconvert_exporter": "python",
   "pygments_lexer": "ipython3",
   "version": "3.8.5"
  }
 },
 "nbformat": 4,
 "nbformat_minor": 4
}
